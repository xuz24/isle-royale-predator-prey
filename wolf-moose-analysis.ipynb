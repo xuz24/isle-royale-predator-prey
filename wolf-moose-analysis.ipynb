{
 "cells": [
  {
   "cell_type": "markdown",
   "metadata": {
    "id": "VQo3f_kn3WMp"
   },
   "source": [
    "# Isle Royale Wolf & Moose Population Analysis\n"
   ]
  },
  {
   "cell_type": "code",
   "execution_count": 1,
   "metadata": {
    "id": "8YuUhHSO3WMq"
   },
   "outputs": [],
   "source": [
    "import pandas as pd\n",
    "import numpy as np\n",
    "import matplotlib.pyplot as plt\n",
    "import seaborn as sb\n",
    "import statsmodels.api as sm\n",
    "import sklearn.model_selection as skms\n",
    "import sklearn.linear_model as sklm\n",
    "import sklearn.tree as skt\n",
    "import sklearn.ensemble as skens"
   ]
  },
  {
   "cell_type": "markdown",
   "metadata": {
    "id": "dRp-txH23WMr"
   },
   "source": [
    "## Introduction\n",
    "\n",
    "### Background\n",
    "\n",
    "In this project, I will analyze two data sets from \"Wolves and Moose of Isle Royale\" project. The data sets contain information about the populations of wolves and moose on Isle Royale, an island in Lake Superior. The data sets include information about the number of wolves and moose on the island, as well as other variables that may be related to the populations of wolves and moose.\n",
    "\n",
    "> Isle Royale is a remote wilderness island, isolated by the frigid waters of Lake Superior, and home to populations of wolves and moose. As predator and prey, their lives and deaths are linked in a drama that is timeless and historic. Their lives are historic because we have been documenting their lives for more than five decades. This research project is the longest continuous study of any predator-prey system in the world. ([Source](https://isleroyalewolf.org/overview/overview/at_a_glance.html))\n",
    "\n",
    "Take a look at the most recent [Annual Report](https://isleroyalewolf.org/sites/default/files/annual-report-pdf/WolfMooseReport_2024_final-web.pdf) to learn more about the project.\n",
    "\n",
    "\n",
    "## Data\n",
    "\n",
    "The data for this project are contained in two CSV files:"
   ]
  },
  {
   "cell_type": "code",
   "execution_count": 2,
   "metadata": {
    "id": "8r6R0yVx3WMs"
   },
   "outputs": [],
   "source": [
    "wolf_moose_yearly = pd.read_csv(\"https://github.com/UM-Data-Science-101/final-project/raw/refs/heads/main/wolf_moose_yearly.csv\", na_values = [\"NA\", \"N/A\", \"N/A yet\", \"NA yet\"])\n",
    "moose_deaths = pd.read_csv(\"https://github.com/UM-Data-Science-101/final-project/raw/refs/heads/main/moose_deaths.csv\")"
   ]
  },
  {
   "cell_type": "markdown",
   "metadata": {
    "id": "LevHfQRx3WMs"
   },
   "source": [
    "The `wolf_moose_yearly` data set contains yearly counts of wolf and moose population, along with variables about the environment and other factors that may be related to the populations. The `moose_deaths` data set contains information about the age and size of decreased moose on Isle Royale.\n",
    "\n",
    "Here are the number of rows and columns of each dataset along with the first 5 rows:"
   ]
  },
  {
   "cell_type": "code",
   "execution_count": 3,
   "metadata": {
    "colab": {
     "base_uri": "https://localhost:8080/",
     "height": 383
    },
    "id": "ov6lw_3k3WMs",
    "outputId": "e903dc26-faa8-4795-81ed-06fae4041783"
   },
   "outputs": [
    {
     "name": "stdout",
     "output_type": "stream",
     "text": [
      "(61, 15)\n",
      "Index(['year', 'wolves', 'moose', 'kill rate', 'predation rate',\n",
      "       'moose recruitment rate', 'moose mean age excluding calves',\n",
      "       'July-Sept (temp, F)', 'Apr-May (temp, F)', 'Jan-Feb (temp, F)',\n",
      "       'May-Aug (precip, inches)', 'NAO (DJFM - station based)',\n",
      "       'NAO - annual', 'snow.depth (cm)', 'ice bridges (0=none, 1 = present)'],\n",
      "      dtype='object')\n"
     ]
    },
    {
     "data": {
      "text/html": [
       "<div>\n",
       "<style scoped>\n",
       "    .dataframe tbody tr th:only-of-type {\n",
       "        vertical-align: middle;\n",
       "    }\n",
       "\n",
       "    .dataframe tbody tr th {\n",
       "        vertical-align: top;\n",
       "    }\n",
       "\n",
       "    .dataframe thead th {\n",
       "        text-align: right;\n",
       "    }\n",
       "</style>\n",
       "<table border=\"1\" class=\"dataframe\">\n",
       "  <thead>\n",
       "    <tr style=\"text-align: right;\">\n",
       "      <th></th>\n",
       "      <th>year</th>\n",
       "      <th>wolves</th>\n",
       "      <th>moose</th>\n",
       "      <th>kill rate</th>\n",
       "      <th>predation rate</th>\n",
       "      <th>moose recruitment rate</th>\n",
       "      <th>moose mean age excluding calves</th>\n",
       "      <th>July-Sept (temp, F)</th>\n",
       "      <th>Apr-May (temp, F)</th>\n",
       "      <th>Jan-Feb (temp, F)</th>\n",
       "      <th>May-Aug (precip, inches)</th>\n",
       "      <th>NAO (DJFM - station based)</th>\n",
       "      <th>NAO - annual</th>\n",
       "      <th>snow.depth (cm)</th>\n",
       "      <th>ice bridges (0=none, 1 = present)</th>\n",
       "    </tr>\n",
       "  </thead>\n",
       "  <tbody>\n",
       "    <tr>\n",
       "      <th>0</th>\n",
       "      <td>1959</td>\n",
       "      <td>20</td>\n",
       "      <td>538</td>\n",
       "      <td>NaN</td>\n",
       "      <td>NaN</td>\n",
       "      <td>20.0</td>\n",
       "      <td>5.82</td>\n",
       "      <td>61.200</td>\n",
       "      <td>43.9</td>\n",
       "      <td>1.40</td>\n",
       "      <td>16.80</td>\n",
       "      <td>-0.37</td>\n",
       "      <td>1.83</td>\n",
       "      <td>NaN</td>\n",
       "      <td>0</td>\n",
       "    </tr>\n",
       "    <tr>\n",
       "      <th>1</th>\n",
       "      <td>1960</td>\n",
       "      <td>22</td>\n",
       "      <td>564</td>\n",
       "      <td>NaN</td>\n",
       "      <td>NaN</td>\n",
       "      <td>14.3</td>\n",
       "      <td>6.14</td>\n",
       "      <td>60.667</td>\n",
       "      <td>43.4</td>\n",
       "      <td>8.45</td>\n",
       "      <td>12.08</td>\n",
       "      <td>-1.54</td>\n",
       "      <td>-1.88</td>\n",
       "      <td>NaN</td>\n",
       "      <td>0</td>\n",
       "    </tr>\n",
       "    <tr>\n",
       "      <th>2</th>\n",
       "      <td>1961</td>\n",
       "      <td>22</td>\n",
       "      <td>572</td>\n",
       "      <td>NaN</td>\n",
       "      <td>NaN</td>\n",
       "      <td>19.5</td>\n",
       "      <td>6.27</td>\n",
       "      <td>60.967</td>\n",
       "      <td>41.4</td>\n",
       "      <td>9.75</td>\n",
       "      <td>8.94</td>\n",
       "      <td>1.80</td>\n",
       "      <td>0.47</td>\n",
       "      <td>NaN</td>\n",
       "      <td>1</td>\n",
       "    </tr>\n",
       "    <tr>\n",
       "      <th>3</th>\n",
       "      <td>1962</td>\n",
       "      <td>23</td>\n",
       "      <td>579</td>\n",
       "      <td>NaN</td>\n",
       "      <td>NaN</td>\n",
       "      <td>16.5</td>\n",
       "      <td>6.11</td>\n",
       "      <td>57.900</td>\n",
       "      <td>42.6</td>\n",
       "      <td>2.15</td>\n",
       "      <td>16.01</td>\n",
       "      <td>-2.38</td>\n",
       "      <td>-1.05</td>\n",
       "      <td>NaN</td>\n",
       "      <td>1</td>\n",
       "    </tr>\n",
       "    <tr>\n",
       "      <th>4</th>\n",
       "      <td>1963</td>\n",
       "      <td>20</td>\n",
       "      <td>596</td>\n",
       "      <td>NaN</td>\n",
       "      <td>NaN</td>\n",
       "      <td>21.2</td>\n",
       "      <td>5.76</td>\n",
       "      <td>60.733</td>\n",
       "      <td>43.5</td>\n",
       "      <td>-0.35</td>\n",
       "      <td>14.10</td>\n",
       "      <td>-3.60</td>\n",
       "      <td>-2.16</td>\n",
       "      <td>NaN</td>\n",
       "      <td>1</td>\n",
       "    </tr>\n",
       "  </tbody>\n",
       "</table>\n",
       "</div>"
      ],
      "text/plain": [
       "   year  wolves  moose  kill rate  predation rate  moose recruitment rate  \\\n",
       "0  1959      20    538        NaN             NaN                    20.0   \n",
       "1  1960      22    564        NaN             NaN                    14.3   \n",
       "2  1961      22    572        NaN             NaN                    19.5   \n",
       "3  1962      23    579        NaN             NaN                    16.5   \n",
       "4  1963      20    596        NaN             NaN                    21.2   \n",
       "\n",
       "   moose mean age excluding calves  July-Sept (temp, F)  Apr-May (temp, F)  \\\n",
       "0                             5.82               61.200               43.9   \n",
       "1                             6.14               60.667               43.4   \n",
       "2                             6.27               60.967               41.4   \n",
       "3                             6.11               57.900               42.6   \n",
       "4                             5.76               60.733               43.5   \n",
       "\n",
       "   Jan-Feb (temp, F)  May-Aug (precip, inches)  NAO (DJFM - station based)  \\\n",
       "0               1.40                     16.80                       -0.37   \n",
       "1               8.45                     12.08                       -1.54   \n",
       "2               9.75                      8.94                        1.80   \n",
       "3               2.15                     16.01                       -2.38   \n",
       "4              -0.35                     14.10                       -3.60   \n",
       "\n",
       "   NAO - annual  snow.depth (cm)  ice bridges (0=none, 1 = present)  \n",
       "0          1.83              NaN                                  0  \n",
       "1         -1.88              NaN                                  0  \n",
       "2          0.47              NaN                                  1  \n",
       "3         -1.05              NaN                                  1  \n",
       "4         -2.16              NaN                                  1  "
      ]
     },
     "execution_count": 3,
     "metadata": {},
     "output_type": "execute_result"
    }
   ],
   "source": [
    "print(wolf_moose_yearly.shape)\n",
    "print(wolf_moose_yearly.columns)\n",
    "wolf_moose_yearly.head()"
   ]
  },
  {
   "cell_type": "code",
   "execution_count": 4,
   "metadata": {
    "colab": {
     "base_uri": "https://localhost:8080/",
     "height": 331
    },
    "id": "UkGGHapELoI7",
    "outputId": "fed2859c-cca8-4150-e4ad-245c5a8b4e1b"
   },
   "outputs": [
    {
     "name": "stdout",
     "output_type": "stream",
     "text": [
      "(662, 8)\n",
      "Index(['Sex', 'Year of birth', 'Cranial Volume (cm3)',\n",
      "       'Winter temperature (standardized)', 'Moose abundance (standardized)',\n",
      "       'Wolf abundance (standardized)', 'Winter temperature (categorical)',\n",
      "       'Age at death'],\n",
      "      dtype='object')\n"
     ]
    },
    {
     "data": {
      "text/html": [
       "<div>\n",
       "<style scoped>\n",
       "    .dataframe tbody tr th:only-of-type {\n",
       "        vertical-align: middle;\n",
       "    }\n",
       "\n",
       "    .dataframe tbody tr th {\n",
       "        vertical-align: top;\n",
       "    }\n",
       "\n",
       "    .dataframe thead th {\n",
       "        text-align: right;\n",
       "    }\n",
       "</style>\n",
       "<table border=\"1\" class=\"dataframe\">\n",
       "  <thead>\n",
       "    <tr style=\"text-align: right;\">\n",
       "      <th></th>\n",
       "      <th>Sex</th>\n",
       "      <th>Year of birth</th>\n",
       "      <th>Cranial Volume (cm3)</th>\n",
       "      <th>Winter temperature (standardized)</th>\n",
       "      <th>Moose abundance (standardized)</th>\n",
       "      <th>Wolf abundance (standardized)</th>\n",
       "      <th>Winter temperature (categorical)</th>\n",
       "      <th>Age at death</th>\n",
       "    </tr>\n",
       "  </thead>\n",
       "  <tbody>\n",
       "    <tr>\n",
       "      <th>0</th>\n",
       "      <td>Male</td>\n",
       "      <td>1989</td>\n",
       "      <td>1627.769</td>\n",
       "      <td>0.817</td>\n",
       "      <td>0.629</td>\n",
       "      <td>-1.055</td>\n",
       "      <td>warm</td>\n",
       "      <td>5</td>\n",
       "    </tr>\n",
       "    <tr>\n",
       "      <th>1</th>\n",
       "      <td>Male</td>\n",
       "      <td>1989</td>\n",
       "      <td>1877.514</td>\n",
       "      <td>0.817</td>\n",
       "      <td>0.629</td>\n",
       "      <td>-1.055</td>\n",
       "      <td>warm</td>\n",
       "      <td>6</td>\n",
       "    </tr>\n",
       "    <tr>\n",
       "      <th>2</th>\n",
       "      <td>Male</td>\n",
       "      <td>1989</td>\n",
       "      <td>2015.398</td>\n",
       "      <td>0.817</td>\n",
       "      <td>0.629</td>\n",
       "      <td>-1.055</td>\n",
       "      <td>warm</td>\n",
       "      <td>6</td>\n",
       "    </tr>\n",
       "    <tr>\n",
       "      <th>3</th>\n",
       "      <td>Male</td>\n",
       "      <td>1988</td>\n",
       "      <td>1551.487</td>\n",
       "      <td>-0.411</td>\n",
       "      <td>0.135</td>\n",
       "      <td>-1.055</td>\n",
       "      <td>cold</td>\n",
       "      <td>7</td>\n",
       "    </tr>\n",
       "    <tr>\n",
       "      <th>4</th>\n",
       "      <td>Male</td>\n",
       "      <td>1988</td>\n",
       "      <td>2125.064</td>\n",
       "      <td>-0.411</td>\n",
       "      <td>0.135</td>\n",
       "      <td>-1.055</td>\n",
       "      <td>cold</td>\n",
       "      <td>7</td>\n",
       "    </tr>\n",
       "  </tbody>\n",
       "</table>\n",
       "</div>"
      ],
      "text/plain": [
       "    Sex  Year of birth  Cranial Volume (cm3)  \\\n",
       "0  Male           1989              1627.769   \n",
       "1  Male           1989              1877.514   \n",
       "2  Male           1989              2015.398   \n",
       "3  Male           1988              1551.487   \n",
       "4  Male           1988              2125.064   \n",
       "\n",
       "   Winter temperature (standardized)  Moose abundance (standardized)  \\\n",
       "0                              0.817                           0.629   \n",
       "1                              0.817                           0.629   \n",
       "2                              0.817                           0.629   \n",
       "3                             -0.411                           0.135   \n",
       "4                             -0.411                           0.135   \n",
       "\n",
       "   Wolf abundance (standardized) Winter temperature (categorical)  \\\n",
       "0                         -1.055                             warm   \n",
       "1                         -1.055                             warm   \n",
       "2                         -1.055                             warm   \n",
       "3                         -1.055                             cold   \n",
       "4                         -1.055                             cold   \n",
       "\n",
       "   Age at death  \n",
       "0             5  \n",
       "1             6  \n",
       "2             6  \n",
       "3             7  \n",
       "4             7  "
      ]
     },
     "execution_count": 4,
     "metadata": {},
     "output_type": "execute_result"
    }
   ],
   "source": [
    "print(moose_deaths.shape)\n",
    "print(moose_deaths.columns)\n",
    "moose_deaths.head()"
   ]
  },
  {
   "cell_type": "markdown",
   "metadata": {
    "id": "8mMva8D13WMt"
   },
   "source": [
    "### Codebook"
   ]
  },
  {
   "cell_type": "markdown",
   "metadata": {
    "id": "JlG01E1x3WMt"
   },
   "source": [
    "\n",
    "\n",
    "\n",
    "|Vairable Name|Description|Type|\n",
    "|---|:--|--:|\n",
    "|year|The year the data was collected in| Numeric, Discrete|\n",
    "|wolves|The wolf population|Numeric, Discrete|\n",
    "|moose|The moose population|Numeric, Discrete|\n",
    "|kill rate|How frequently wolves kill moose. Measured in kills per wolf per month.|Numeric, Continuous|\n",
    "|predation rate|The proportion of moose each year that are killed by wolves.|Numeric, Continuous|\n",
    "|moose recruitment rate|the proportion of the moose population that is calves|Numeric, Continuous|\n",
    "|moose mean age excluding calves|The average age of the moose population excluding calves.|Numeric, Continuous|\n",
    "|July-Sept/Apr-May/Jan-Feb (temp, F)|The temperature in fahrenheit in the respective month range.|Numeric, Continuous|\n",
    "|May-Aug (precip, inches)|The precipition in inches in the month range|Numeric, Continuous|\n",
    "|NAO (DJFM - station based)/annual|The difference of normalized sea level pressure (SLP)<br> between Lisbon, Portugal and Stykkisholmur/Reykjavik, <br>Iceland since 1864. Measured monthly or yearly|Numeric, Continuous|\n",
    "|snow.depth (cm)|The snow depth in cm|Numeric, Continuous|\n",
    "|ice bridges (0=none, 1 = present)|If there was an ice bridge or not.|Categorical, Binary|\n",
    "|Sex|The sex of the moose.|Categorical, Binary|\n",
    "|Year of birth|When the moose was born.|Numeric, Discrete|\n",
    "|Cranial Volume (cm3)|The cranial volume of the moose in cm3.|Numeric, Continuous|\n",
    "|Winter temperature (standardized)|Standardized winter temperature.|Numeric, Continuous|\n",
    "|Moose abundance (standardized)|Standardized moose abundance.|Numeric, Continuous|\n",
    "|Wolf abundance (standardized)|Standardized wolf abundance.|Numeric, Continuous|\n",
    "|Winter temperature (categorical)|Winter temperature.|Categorical, Ordinal|\n",
    "|Age at death|The age of the moose when it died.|Numeric, Discrete|\n",
    "\n"
   ]
  },
  {
   "cell_type": "markdown",
   "metadata": {
    "id": "i6CYpNzD3WMt"
   },
   "source": [
    "### Data Cleaning\n",
    "For this project, I decided to drop any rows with missing values."
   ]
  },
  {
   "cell_type": "code",
   "execution_count": 5,
   "metadata": {
    "colab": {
     "base_uri": "https://localhost:8080/"
    },
    "id": "XrZNV4Eo3WMu",
    "outputId": "e044c66c-c032-4581-e10b-18336802ceaa"
   },
   "outputs": [
    {
     "name": "stdout",
     "output_type": "stream",
     "text": [
      "year                                  0\n",
      "wolves                                0\n",
      "moose                                 0\n",
      "kill rate                            13\n",
      "predation rate                       13\n",
      "moose recruitment rate                3\n",
      "moose mean age excluding calves      12\n",
      "July-Sept (temp, F)                   1\n",
      "Apr-May (temp, F)                     0\n",
      "Jan-Feb (temp, F)                     0\n",
      "May-Aug (precip, inches)              1\n",
      "NAO (DJFM - station based)            1\n",
      "NAO - annual                          2\n",
      "snow.depth (cm)                      16\n",
      "ice bridges (0=none, 1 = present)     0\n",
      "dtype: int64\n",
      "Sex                                  0\n",
      "Year of birth                        0\n",
      "Cranial Volume (cm3)                 0\n",
      "Winter temperature (standardized)    0\n",
      "Moose abundance (standardized)       0\n",
      "Wolf abundance (standardized)        0\n",
      "Winter temperature (categorical)     0\n",
      "Age at death                         0\n",
      "dtype: int64\n"
     ]
    }
   ],
   "source": [
    "print(wolf_moose_yearly.isna().sum())\n",
    "print(moose_deaths.isna().sum())"
   ]
  },
  {
   "cell_type": "markdown",
   "metadata": {
    "id": "mp65jwEd3WMu"
   },
   "source": [
    "## Exploratory Data Analysis\n",
    "### Univariate Exploration\n",
    "#### Discrete Variable"
   ]
  },
  {
   "cell_type": "code",
   "execution_count": 6,
   "metadata": {
    "colab": {
     "base_uri": "https://localhost:8080/",
     "height": 469
    },
    "id": "RtSfRr463WMu",
    "outputId": "051ec4c2-11ac-46ea-b6b9-ef573f0ccdd3"
   },
   "outputs": [
    {
     "data": {
      "text/plain": [
       "<Axes: xlabel='Age at death', ylabel='count'>"
      ]
     },
     "execution_count": 6,
     "metadata": {},
     "output_type": "execute_result"
    },
    {
     "data": {
      "image/png": "[encoded data removed]",
      "text/plain": [
       "<Figure size 640x480 with 1 Axes>"
      ]
     },
     "metadata": {},
     "output_type": "display_data"
    }
   ],
   "source": [
    "sb.countplot(data = moose_deaths, x = \"Age at death\")"
   ]
  },
  {
   "cell_type": "markdown",
   "metadata": {
    "id": "xI_hJ5wrVfgk"
   },
   "source": [
    "The typical age that a moose dies at is ~12."
   ]
  },
  {
   "cell_type": "markdown",
   "metadata": {
    "id": "aO_WdtmV3WMv"
   },
   "source": [
    "#### Numeric Variable"
   ]
  },
  {
   "cell_type": "code",
   "execution_count": 7,
   "metadata": {
    "colab": {
     "base_uri": "https://localhost:8080/",
     "height": 467
    },
    "id": "gYs8PRur3WMv",
    "outputId": "9c7b7358-2fd7-4223-b1ff-e5d753f925b5"
   },
   "outputs": [
    {
     "data": {
      "text/plain": [
       "<Axes: xlabel='Cranial Volume (cm3)', ylabel='Count'>"
      ]
     },
     "execution_count": 7,
     "metadata": {},
     "output_type": "execute_result"
    },
    {
     "data": {
      "image/png": "[encoded data removed]",
      "text/plain": [
       "<Figure size 640x480 with 1 Axes>"
      ]
     },
     "metadata": {},
     "output_type": "display_data"
    }
   ],
   "source": [
    "sb.histplot(data = moose_deaths, x = \"Cranial Volume (cm3)\", bins=50)"
   ]
  },
  {
   "cell_type": "markdown",
   "metadata": {
    "id": "vO9gtoVyYFlH"
   },
   "source": [
    "Cranial volumne of the killed moose have a pretty large range. The graph is bimodal with peaks at ~1600cm3 and ~1990cm3."
   ]
  },
  {
   "cell_type": "markdown",
   "metadata": {
    "id": "ZpeEiMmJ3WMv"
   },
   "source": [
    "### Multivariate Exploration"
   ]
  },
  {
   "cell_type": "markdown",
   "metadata": {
    "id": "lplY0w_R3WMv"
   },
   "source": [
    "\n",
    "#### Discrete-Discrete"
   ]
  },
  {
   "cell_type": "code",
   "execution_count": 8,
   "metadata": {
    "colab": {
     "base_uri": "https://localhost:8080/",
     "height": 467
    },
    "id": "jPRbg_rF3WMv",
    "outputId": "7c81d719-6ff9-4322-9393-ed08aab4ce0d"
   },
   "outputs": [
    {
     "data": {
      "text/plain": [
       "21.065573770491802"
      ]
     },
     "execution_count": 8,
     "metadata": {},
     "output_type": "execute_result"
    },
    {
     "data": {
      "image/png": "[encoded data removed]",
      "text/plain": [
       "<Figure size 640x480 with 1 Axes>"
      ]
     },
     "metadata": {},
     "output_type": "display_data"
    }
   ],
   "source": [
    "#year vs wolves\n",
    "sb.scatterplot(data = wolf_moose_yearly, x = \"year\", y = \"wolves\")\n",
    "wolf_moose_yearly[\"wolves\"].mean()"
   ]
  },
  {
   "cell_type": "markdown",
   "metadata": {
    "id": "kf9y_s0RyMbG"
   },
   "source": [
    "The population of wolves peaked in 1980 at 50 wolves. It then has decreased but is on the rise again."
   ]
  },
  {
   "cell_type": "markdown",
   "metadata": {
    "id": "Q9QRdca-3WMv"
   },
   "source": [
    "#### Discrete-Numeric"
   ]
  },
  {
   "cell_type": "code",
   "execution_count": 9,
   "metadata": {
    "colab": {
     "base_uri": "https://localhost:8080/",
     "height": 471
    },
    "id": "SdhE_3YV3WMv",
    "outputId": "1c7544ef-1a61-4546-9e1a-764a8b4b2d81"
   },
   "outputs": [
    {
     "data": {
      "text/plain": [
       "0.09513513513513513"
      ]
     },
     "execution_count": 9,
     "metadata": {},
     "output_type": "execute_result"
    },
    {
     "data": {
      "image/png": "[encoded data removed]",
      "text/plain": [
       "<Figure size 640x480 with 1 Axes>"
      ]
     },
     "metadata": {},
     "output_type": "display_data"
    }
   ],
   "source": [
    "#wolves vs predation rate\n",
    "temp = wolf_moose_yearly[wolf_moose_yearly[\"moose mean age excluding calves\"].notna() & wolf_moose_yearly[\"predation rate\"].notna()]\n",
    "sb.scatterplot(data = temp, x = \"moose mean age excluding calves\", y = \"predation rate\")\n",
    "temp[\"predation rate\"].mean()"
   ]
  },
  {
   "cell_type": "markdown",
   "metadata": {
    "id": "5tUj2eiNWrMQ"
   },
   "source": [
    "The predation rate of the moose increase when their average age is higher. When the mean age was 10, the predation rate was at an almost all time high of ~0.230"
   ]
  },
  {
   "cell_type": "markdown",
   "metadata": {
    "id": "x4bwygat3WMv"
   },
   "source": [
    "#### Numeric-Numeric"
   ]
  },
  {
   "cell_type": "code",
   "execution_count": 10,
   "metadata": {
    "colab": {
     "base_uri": "https://localhost:8080/",
     "height": 467
    },
    "id": "D8Ze1lzl3WMv",
    "outputId": "3b7836a9-f09e-402c-b9be-d92ff0ad6250"
   },
   "outputs": [
    {
     "data": {
      "text/plain": [
       "0.7346382978723404"
      ]
     },
     "execution_count": 10,
     "metadata": {},
     "output_type": "execute_result"
    },
    {
     "data": {
      "image/png": "[encoded data removed]",
      "text/plain": [
       "<Figure size 640x480 with 1 Axes>"
      ]
     },
     "metadata": {},
     "output_type": "display_data"
    }
   ],
   "source": [
    "#NAO vs kill rate\n",
    "temp = wolf_moose_yearly[wolf_moose_yearly[\"NAO - annual\"].notna() & wolf_moose_yearly[\"kill rate\"].notna()]\n",
    "sb.scatterplot(data = temp, x = \"NAO - annual\", y = \"kill rate\")\n",
    "temp[\"kill rate\"].mean()"
   ]
  },
  {
   "cell_type": "code",
   "execution_count": 11,
   "metadata": {
    "colab": {
     "base_uri": "https://localhost:8080/",
     "height": 467
    },
    "id": "Mb04T7cqHxHp",
    "outputId": "c06112a7-94f1-4c22-bc4b-feb3d310e592"
   },
   "outputs": [
    {
     "data": {
      "text/plain": [
       "<Axes: xlabel='NAO (DJFM - station based)', ylabel='kill rate'>"
      ]
     },
     "execution_count": 11,
     "metadata": {},
     "output_type": "execute_result"
    },
    {
     "data": {
      "image/png": "[encoded data removed]",
      "text/plain": [
       "<Figure size 640x480 with 1 Axes>"
      ]
     },
     "metadata": {},
     "output_type": "display_data"
    }
   ],
   "source": [
    "temp = wolf_moose_yearly[wolf_moose_yearly[\"NAO (DJFM - station based)\"].notna() & wolf_moose_yearly[\"kill rate\"].notna()]\n",
    "sb.scatterplot(data = temp, x = \"NAO (DJFM - station based)\", y = \"kill rate\")"
   ]
  },
  {
   "cell_type": "markdown",
   "metadata": {
    "id": "_ycthUqQWiJk"
   },
   "source": [
    "There seems to be a postive correlation between kill rate and the severity of winter storms. The average kill rate is 0.735."
   ]
  },
  {
   "cell_type": "markdown",
   "metadata": {
    "id": "DYt7biYS3WMv"
   },
   "source": [
    "### Summary"
   ]
  },
  {
   "cell_type": "markdown",
   "metadata": {
    "id": "uw_eod803WMw"
   },
   "source": [
    "From my exploration of the data, I observed a couple relationships between weather severity, moose age, kill rate, and predation rate. I found that the more severe the winter weather, the kill rate for wolves was higher. From the other graph, it seems that more of the moose population is killed when they have a higher average age. There looks to be a strong correlation between moose mean age and predation age, while a less strong correlation between NAO and kill rate. Some variables that might be related to the populations of wolves and moose on Isle Royale are NAO, and moose mean age."
   ]
  },
  {
   "cell_type": "markdown",
   "metadata": {
    "id": "Y-k3fLIF3WMw"
   },
   "source": [
    "## Inference\n",
    "### Population and Sampling"
   ]
  },
  {
   "cell_type": "markdown",
   "metadata": {
    "id": "ksP4HXQD3WMw"
   },
   "source": [
    "The popluation of interest that I am trying to make inferences about in this study is the moose and wolf population of Isle Royale.\n",
    "\n",
    "The sample in this study is the observed data about the moose and wolf population of Isle Royale since 1959. The sample is a subset of the whole population of Isle Royale and is used to describe characteristics of the greater population."
   ]
  },
  {
   "cell_type": "markdown",
   "metadata": {
    "id": "r0Y0JNqX3WMw"
   },
   "source": [
    "### Hypothesis Testing\n",
    "\n",
    "#### Theory"
   ]
  },
  {
   "cell_type": "markdown",
   "metadata": {
    "id": "fLHJRWhL3WMw"
   },
   "source": [
    "One theory I would like to test about the moose and wolf population of Isle Royale is that the kill rate of moose is lower in winters that are more severe.\n",
    "\n",
    "The population parameter is difference of kill rate means in less severe winters and more severe winters.\n",
    "\n",
    "The parameter space is (-inf, inf) since there are no bounds on NAO.\n",
    "\n",
    "The null hypothesis is that the kill rate mean is lower in less severe winters (NAO >= 0) than winters that are more severe (NAO < 0).\n",
    "\n",
    "The alternative hypothesis is that kill rate mean is greater in severe winters (NAO < 0) than winters that are less severe (NAO >= 0)."
   ]
  },
  {
   "cell_type": "markdown",
   "metadata": {
    "id": "K6jiigiC3WMw"
   },
   "source": [
    "#### Application"
   ]
  },
  {
   "cell_type": "code",
   "execution_count": 12,
   "metadata": {
    "colab": {
     "base_uri": "https://localhost:8080/"
    },
    "id": "kdNQUSzB3WMw",
    "outputId": "ed0bff54-4b2a-470b-baa7-6a41efc758ba"
   },
   "outputs": [
    {
     "data": {
      "text/plain": [
       "1.005815927880391"
      ]
     },
     "execution_count": 12,
     "metadata": {},
     "output_type": "execute_result"
    }
   ],
   "source": [
    "#split into more severe and less severe\n",
    "#select Type 1 error tolerance to 5%\n",
    "temp = wolf_moose_yearly[wolf_moose_yearly[\"NAO (DJFM - station based)\"].notna() & wolf_moose_yearly[\"kill rate\"].notna()] #drop any missing values\n",
    "wolf_moose_yearly_more_severe = temp[temp[\"NAO (DJFM - station based)\"] < 0]\n",
    "wolf_moose_yearly_less_severe = temp[temp[\"NAO (DJFM - station based)\"] >= 0]\n",
    "\n",
    "severe_mean = wolf_moose_yearly_more_severe[\"kill rate\"].mean()\n",
    "less_severe_mean = wolf_moose_yearly_less_severe[\"kill rate\"].mean()\n",
    "observed_statistic = less_severe_mean - severe_mean\n",
    "\n",
    "s2 = wolf_moose_yearly_more_severe[\"kill rate\"].var()/len(wolf_moose_yearly_more_severe) + wolf_moose_yearly_less_severe[\"kill rate\"].var()/len(wolf_moose_yearly_less_severe)\n",
    "standard_error = np.sqrt(s2)\n",
    "t_statistic = observed_statistic/standard_error\n",
    "t_statistic"
   ]
  },
  {
   "cell_type": "markdown",
   "metadata": {
    "id": "kWVQGpGh3WMw"
   },
   "source": [
    "Since the test statistic is less than 2, we will fail to reject the null hypothesis that the moose kill rate is lower in less severe winters. From this test, we can conclude that kill rate was not lower in more severe winters."
   ]
  },
  {
   "cell_type": "markdown",
   "metadata": {
    "id": "Ir4uSFTX3WMw"
   },
   "source": [
    "### Confidence Interval\n",
    "#### Theory"
   ]
  },
  {
   "cell_type": "markdown",
   "metadata": {
    "id": "obWBSDQ53WMw"
   },
   "source": [
    "Population parameter: difference of wolf population means when the mean age of the moose population excluding calves is younger vs older.\n",
    "\n",
    "I can use a confidence interval to see if the observed values fall into the confidence interval to determine if there is a difference in mean wolf population.\n",
    "\n",
    "confidence level: 95%\n",
    "\n",
    "older: age > 7.5\n",
    "\n",
    "younger: age <= 7.5"
   ]
  },
  {
   "cell_type": "code",
   "execution_count": 13,
   "metadata": {
    "colab": {
     "base_uri": "https://localhost:8080/",
     "height": 467
    },
    "id": "JCi_7r6gZJZ5",
    "outputId": "1d094cf5-7b2f-4607-dd3d-d7cf40d9d205"
   },
   "outputs": [
    {
     "data": {
      "text/plain": [
       "<Axes: xlabel='moose mean age excluding calves', ylabel='wolves'>"
      ]
     },
     "execution_count": 13,
     "metadata": {},
     "output_type": "execute_result"
    },
    {
     "data": {
      "image/png": "[encoded data removed]",
      "text/plain": [
       "<Figure size 640x480 with 1 Axes>"
      ]
     },
     "metadata": {},
     "output_type": "display_data"
    }
   ],
   "source": [
    "sb.scatterplot(data=wolf_moose_yearly, x = \"moose mean age excluding calves\", y = \"wolves\")"
   ]
  },
  {
   "cell_type": "markdown",
   "metadata": {
    "id": "ASAjjaS23WMw"
   },
   "source": [
    "#### Application\n"
   ]
  },
  {
   "cell_type": "code",
   "execution_count": 14,
   "metadata": {
    "colab": {
     "base_uri": "https://localhost:8080/"
    },
    "id": "eW6TelgP3WMx",
    "outputId": "ad163eda-003f-4398-f258-efbbf0b4cf50"
   },
   "outputs": [
    {
     "name": "stdout",
     "output_type": "stream",
     "text": [
      "(19.84951067589154, 24.939963008318987)\n",
      "27.454545454545453\n"
     ]
    }
   ],
   "source": [
    "#alpha = 5%\n",
    "#split into younger and older\n",
    "temp = wolf_moose_yearly[wolf_moose_yearly[\"moose mean age excluding calves\"].notna()] #drop any missing values\n",
    "wolf_moose_yearly_older = temp[temp[\"moose mean age excluding calves\"] > 7.5]\n",
    "wolf_moose_yearly_younger = temp[temp[\"moose mean age excluding calves\"] <= 7.5]\n",
    "\n",
    "older_mean = wolf_moose_yearly_older[\"wolves\"].mean()\n",
    "younger_mean = wolf_moose_yearly_younger[\"wolves\"].mean()\n",
    "observed_statistic = younger_mean\n",
    "\n",
    "s2 = wolf_moose_yearly_younger[\"wolves\"].var()/len(wolf_moose_yearly_younger)\n",
    "standard_error = np.sqrt(s2)\n",
    "\n",
    "CI = (observed_statistic - 2 * standard_error, observed_statistic + 2 * standard_error) #confidence interval of younger mean\n",
    "print(CI)\n",
    "print(older_mean)"
   ]
  },
  {
   "cell_type": "markdown",
   "metadata": {
    "id": "VtHhDWe-3WMx"
   },
   "source": [
    "I found that the CI for the wolf population of a younger moose population is 19.8 yrs to 24.9 yrs old. The observed mean of the wolf population for an older population is 27.5, which is outside of the confidence interval, meaning that we would reject the null hypothesis that the wolf population is the same when the mean moose age is younger and older."
   ]
  },
  {
   "cell_type": "markdown",
   "metadata": {
    "id": "msJVPYx73WM3"
   },
   "source": [
    "### Regression\n",
    "\n",
    "#### Theory\n",
    "\n",
    "Linear regression is a statistical method that models the relationship between the conditional mean of an outcome and one or more predictors as a linear function:\n",
    "\n",
    "$$E(Y \\mid x_1, x_2, \\ldots ) = a + b_1 x_1 + b_2 x_2 + \\ldots $$"
   ]
  },
  {
   "cell_type": "markdown",
   "metadata": {
    "id": "ZM4mtcdq3WM3"
   },
   "source": [
    "The population of moose depends on the wolf population, kill rate, and the predation rate.\n",
    "\n",
    "Linear regression can model the relationship between the outcome and predictors by estimating the conditional mean of the outcome (moose population) as a linear combination of the predictors (kill rate predation rate)\n",
    "\n",
    "If b = 0, that would mean the coeffecient for a predictor is 0 which means it has no effect on the outcome."
   ]
  },
  {
   "cell_type": "markdown",
   "metadata": {
    "id": "rFrl7EgY3WM4"
   },
   "source": [
    "#### Application"
   ]
  },
  {
   "cell_type": "code",
   "execution_count": 15,
   "metadata": {
    "colab": {
     "base_uri": "https://localhost:8080/"
    },
    "id": "OCwwlkAi3WM4",
    "outputId": "affa3460-00db-48f4-a144-89b14220988c"
   },
   "outputs": [
    {
     "name": "stdout",
     "output_type": "stream",
     "text": [
      "const              392.616231\n",
      "kill rate          972.751681\n",
      "predation rate   -5458.239397\n",
      "wolves              20.700490\n",
      "dtype: float64\n",
      "0.673683489526199\n"
     ]
    }
   ],
   "source": [
    "temp = wolf_moose_yearly[wolf_moose_yearly[\"kill rate\"].notna() & wolf_moose_yearly[\"predation rate\"].notna()] #drop any missing values\n",
    "\n",
    "model = sm.OLS(temp[\"moose\"], sm.add_constant(temp[[\"kill rate\", \"predation rate\", \"wolves\"]]))\n",
    "bs = model.fit().params\n",
    "print(bs)\n",
    "\n",
    "r2 = model.fit().rsquared\n",
    "print(r2)"
   ]
  },
  {
   "cell_type": "code",
   "execution_count": 16,
   "metadata": {
    "colab": {
     "base_uri": "https://localhost:8080/"
    },
    "id": "Bb9fAVwYjhv3",
    "outputId": "e41669f3-fa24-4959-c4c3-dfe542f62296"
   },
   "outputs": [
    {
     "data": {
      "text/plain": [
       "994.338370281907"
      ]
     },
     "execution_count": 16,
     "metadata": {},
     "output_type": "execute_result"
    }
   ],
   "source": [
    "wolves = 31\n",
    "killrate = 0.52\n",
    "predationrate = 0.1\n",
    "\n",
    "estimated_moose = bs.iloc[0] + bs.iloc[1] * killrate + bs.iloc[2] * predationrate + bs.iloc[3] * wolves\n",
    "estimated_moose"
   ]
  },
  {
   "cell_type": "markdown",
   "metadata": {
    "id": "ZIOfbeSZ3WM4"
   },
   "source": [
    "From the regression test, we can see that kill rate, predation rate and wolf population all have influence on the moose population. None of the predictors had a b value of 0.\n",
    "\n",
    "kill rate: 972.751681 * 0.01 = ~9.72 moose per percent kill rate.\n",
    "\n",
    "predation rate: -5458.239397 * 0.01 = ~-54.58 moose per precent predation rate.\n",
    "\n",
    "wolves: 20.70 moose per wolf.\n",
    "\n",
    "With R^2 equal to ~0.67, these three predictors account for about 67% of the varience in the outcome.\n",
    "\n",
    "With data taken from the 2023 study, the model estimated about 994 for the moose population. And according to the study, the observed amount was 967, an error of 27 moose."
   ]
  },
  {
   "cell_type": "markdown",
   "metadata": {
    "id": "htTLQTL83WM4"
   },
   "source": [
    "### Classification\n",
    "\n",
    "#### Theory"
   ]
  },
  {
   "cell_type": "markdown",
   "metadata": {
    "id": "miVOEtVw3WM4"
   },
   "source": [
    "I will use a decision tree to determine if the wolf population increased from the previous year based on predation rate, moose recruitment rate, and snow depth.\n",
    "\n",
    "A decision tree will split based on threshholds in predictor values (predation rate, moose recruitment rate, and snow depth) to reach a decision (if wolf population has increased).\n",
    "\n",
    "The gini values of the tree will tell us if using a certain predictor will be efficient in predicting an outcome.\n",
    "\n",
    "Using training sets to predict the rest of the data is a good way to evaluate if the model is accurate. It could have very good results on the data it was trained on but not at predicitng values outside the set resulting in an overfit model."
   ]
  },
  {
   "cell_type": "markdown",
   "metadata": {
    "id": "c0wswxfE3WM4"
   },
   "source": [
    "#### Application"
   ]
  },
  {
   "cell_type": "code",
   "execution_count": 17,
   "metadata": {
    "colab": {
     "base_uri": "https://localhost:8080/",
     "height": 424
    },
    "id": "qmP7Fo0u3WM4",
    "outputId": "33b7f7b9-d7b5-402e-ad35-e747d0f7ea0c"
   },
   "outputs": [
    {
     "name": "stdout",
     "output_type": "stream",
     "text": [
      "0.6572222222222238\n"
     ]
    },
    {
     "data": {
      "image/png": "[encoded data removed]",
      "text/plain": [
       "<Figure size 640x480 with 1 Axes>"
      ]
     },
     "metadata": {},
     "output_type": "display_data"
    }
   ],
   "source": [
    "wolf_moose_yearly[\"wolves_increasing\"] = wolf_moose_yearly[\"wolves\"].diff() > 0\n",
    "wolf_moose_yearly[\"wolves_increasing\"] = wolf_moose_yearly[\"wolves_increasing\"].astype(int)\n",
    "\n",
    "avg_score = 0;\n",
    "temp = wolf_moose_yearly[wolf_moose_yearly[\"predation rate\"].notna() & wolf_moose_yearly[\"moose recruitment rate\"].notna()]\n",
    "\n",
    "for i in range(0,1000):\n",
    "  training_set = temp.sample(frac = 0.8)\n",
    "  testing_set = temp.drop(training_set.index)\n",
    "\n",
    "  training_set.sort_values(by = \"year\", inplace = True)\n",
    "  testing_set.sort_values(by = \"year\", inplace = True)\n",
    "\n",
    "  tree = skt.DecisionTreeClassifier(max_depth = 3)\n",
    "  tree.fit(training_set[[\"predation rate\", \"moose recruitment rate\", \"wolves\"]], training_set[\"wolves_increasing\"])\n",
    "\n",
    "\n",
    "  avg_score += tree.score(testing_set[[\"predation rate\", \"moose recruitment rate\", \"wolves\"]], testing_set[\"wolves_increasing\"])\n",
    "\n",
    "skt.plot_tree(tree, feature_names = [\"predation rate\", \"moose recruitment rate\", \"wolves\"])\n",
    "print(avg_score/1000)"
   ]
  },
  {
   "cell_type": "markdown",
   "metadata": {
    "id": "HfCSZwxA3WM4"
   },
   "source": [
    "The tree created to predict if the wolf population will increase from the previous year from the predictors of moose recruitment rate, wolf population, and predation rate using a max depth of 3.\n",
    "\n",
    "From the testing data, which is 80% of the wolf_moose_yearly data with missing values dropped, the tree produced a model that has an average of ~65% accuracy on the rest of the set run 1000 times."
   ]
  },
  {
   "cell_type": "markdown",
   "metadata": {
    "id": "ZTcS9_C33WM4"
   },
   "source": [
    "## Conclusion"
   ]
  },
  {
   "cell_type": "markdown",
   "metadata": {
    "id": "P8WfCyae3WM4"
   },
   "source": [
    "From my univariate exploration, I found that the average moose dies at 12 years old and that most values of cranial volume of dead moose fall between 1500 and 1700 cm3 with peaks at ~1600cm3 and ~1990cm3.\n",
    "\n",
    "From multivariate exploration, I observed that the predation rate of the moose increases when their average age is higher and that the population of wolves peaked in 1980 at 50 wolves.\n",
    "\n",
    "In the next section, I tested if kill rate was lower in more severe winters than less severe winters. From this hypothesis test, I found that kill rate was not lower in more severe winters since the test statistic was less than 2 standard errors away from the kill rate in less severe winters.\n",
    "\n",
    "In a confidence interval test, I found that the 95% CI for the wolf population of a younger moose population is 19.8 yrs to 24.9 yrs old. The observed mean of the wolf population for an older population is 27.5, which is outside of the confidence interval, meaning that we would reject the null hypothesis that the wolf population is the same when the mean moose age is younger and older.\n",
    "\n",
    "From the regression test, I found that kill rate, predation rate and wolf population all have influence on the moose population. None of the predictors had a b value of 0 and with R^2 equal to ~0.67, these three predictors account for about 67% of the varience in the outcome. I used the constants from the test to predict the number of moose in 2023 with an error of 27 moose.\n",
    "\n",
    "Finally, in classification, the tree created to predict if the wolf population will increase from the previous year from the predictors of moose recruitment rate, wolf population, and predation rate using a max depth of 3 resulted in a model with ~65% accuracy. The tree was created from a sample of the data set (80% used for training and 20% for testing after dropping NA values) and rerun 1000 times to get an average accuracy since the training and testing set was random.\n",
    "\n",
    "One thing that could be improved upon is data cleaning. Dropping all rows with missing values may not be the best solution here. One way to fix this could be using methods of imputation for missing data, which would give access to more data and more accurate analysis."
   ]
  }
 ],
 "metadata": {
  "colab": {
   "provenance": []
  },
  "kernelspec": {
   "display_name": "Python 3 (ipykernel)",
   "language": "python",
   "name": "python3"
  },
  "language_info": {
   "codemirror_mode": {
    "name": "ipython",
    "version": 3
   },
   "file_extension": ".py",
   "mimetype": "text/x-python",
   "name": "python",
   "nbconvert_exporter": "python",
   "pygments_lexer": "ipython3",
   "version": "3.10.16"
  }
 },
 "nbformat": 4,
 "nbformat_minor": 4
}
